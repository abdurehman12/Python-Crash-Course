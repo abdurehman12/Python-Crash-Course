{
  "nbformat": 4,
  "nbformat_minor": 0,
  "metadata": {
    "colab": {
      "name": "crash Python course",
      "provenance": [],
      "collapsed_sections": []
    },
    "kernelspec": {
      "name": "python3",
      "display_name": "Python 3"
    },
    "language_info": {
      "name": "python"
    }
  },
  "cells": [
    {
      "cell_type": "code",
      "metadata": {
        "colab": {
          "base_uri": "https://localhost:8080/"
        },
        "id": "sQgf_a7UEBK9",
        "outputId": "87b0fceb-c1d1-4473-9472-abc4e1df015b"
      },
      "source": [
        "friends= [\"Abbasi\", \"Bilal\", \"Arham\"]\n",
        "for friend in friends:\n",
        "  print(\"Hi \" + friend)"
      ],
      "execution_count": null,
      "outputs": [
        {
          "output_type": "stream",
          "text": [
            "Hi Abbasi\n",
            "Hi Bilal\n",
            "Hi Arham\n"
          ],
          "name": "stdout"
        }
      ]
    },
    {
      "cell_type": "code",
      "metadata": {
        "colab": {
          "base_uri": "https://localhost:8080/"
        },
        "id": "V8dQQZj6ETWj",
        "outputId": "3555ab0b-28e0-48e7-ea7c-f3cd83c4093e"
      },
      "source": [
        "for i in range(5):\n",
        "  print(i)\n",
        "  print(i+1)"
      ],
      "execution_count": null,
      "outputs": [
        {
          "output_type": "stream",
          "text": [
            "0\n",
            "1\n",
            "1\n",
            "2\n",
            "2\n",
            "3\n",
            "3\n",
            "4\n",
            "4\n",
            "5\n"
          ],
          "name": "stdout"
        }
      ]
    },
    {
      "cell_type": "code",
      "metadata": {
        "colab": {
          "base_uri": "https://localhost:8080/"
        },
        "id": "I3pKCFj4GoBe",
        "outputId": "fa65b291-2a92-4aa9-a0cc-ad6a66177b35"
      },
      "source": [
        "print(4+5)"
      ],
      "execution_count": null,
      "outputs": [
        {
          "output_type": "stream",
          "text": [
            "9\n"
          ],
          "name": "stdout"
        }
      ]
    },
    {
      "cell_type": "code",
      "metadata": {
        "colab": {
          "base_uri": "https://localhost:8080/"
        },
        "id": "d5nOZ9ThI9Tk",
        "outputId": "a3a9d96c-28a3-4280-c4dc-fb3a6d57a107"
      },
      "source": [
        "print(-1/4)"
      ],
      "execution_count": null,
      "outputs": [
        {
          "output_type": "stream",
          "text": [
            "-0.25\n"
          ],
          "name": "stdout"
        }
      ]
    },
    {
      "cell_type": "code",
      "metadata": {
        "colab": {
          "base_uri": "https://localhost:8080/"
        },
        "id": "ruFIT_qII_dW",
        "outputId": "6e494aba-21d3-434a-973d-5bbaab8502ef"
      },
      "source": [
        "\n",
        ">>> import keyword\n",
        ">>> print(keyword.kwlist)"
      ],
      "execution_count": null,
      "outputs": [
        {
          "output_type": "stream",
          "text": [
            "['False', 'None', 'True', 'and', 'as', 'assert', 'async', 'await', 'break', 'class', 'continue', 'def', 'del', 'elif', 'else', 'except', 'finally', 'for', 'from', 'global', 'if', 'import', 'in', 'is', 'lambda', 'nonlocal', 'not', 'or', 'pass', 'raise', 'return', 'try', 'while', 'with', 'yield']\n"
          ],
          "name": "stdout"
        }
      ]
    },
    {
      "cell_type": "code",
      "metadata": {
        "colab": {
          "base_uri": "https://localhost:8080/"
        },
        "id": "aceUVnWRJnU-",
        "outputId": "87daa182-9cad-4cb0-90c6-343d0d4bdf96"
      },
      "source": [
        "print(type(\"a\"))"
      ],
      "execution_count": null,
      "outputs": [
        {
          "output_type": "stream",
          "text": [
            "<class 'str'>\n"
          ],
          "name": "stdout"
        }
      ]
    },
    {
      "cell_type": "code",
      "metadata": {
        "colab": {
          "base_uri": "https://localhost:8080/"
        },
        "id": "eblJWA6hXq0h",
        "outputId": "fc9daa3c-ce37-4c55-af0a-ee6e00f5cfcd"
      },
      "source": [
        "print(type('a'))"
      ],
      "execution_count": null,
      "outputs": [
        {
          "output_type": "stream",
          "text": [
            "<class 'str'>\n"
          ],
          "name": "stdout"
        }
      ]
    },
    {
      "cell_type": "code",
      "metadata": {
        "colab": {
          "base_uri": "https://localhost:8080/"
        },
        "id": "pg8yAhGuXttV",
        "outputId": "a04d54e7-3f5f-4e01-a2c5-8c60740a34d5"
      },
      "source": [
        "\n",
        "print(7+int(\"8\"))"
      ],
      "execution_count": null,
      "outputs": [
        {
          "output_type": "stream",
          "text": [
            "15\n"
          ],
          "name": "stdout"
        }
      ]
    },
    {
      "cell_type": "code",
      "metadata": {
        "colab": {
          "base_uri": "https://localhost:8080/"
        },
        "id": "hIkpNpV0Xx8j",
        "outputId": "4c5154e7-4e91-4a8d-efad-a8438cb03f8e"
      },
      "source": [
        "print(\"A\" + str(6))"
      ],
      "execution_count": null,
      "outputs": [
        {
          "output_type": "stream",
          "text": [
            "A6\n"
          ],
          "name": "stdout"
        }
      ]
    },
    {
      "cell_type": "code",
      "metadata": {
        "colab": {
          "base_uri": "https://localhost:8080/"
        },
        "id": "pYHcWAlgX4XG",
        "outputId": "db506e43-5cd4-496d-c2c2-00d6ea70bb3b"
      },
      "source": [
        "def greeting(name, age):\n",
        "  print(\"Welcome \"+ name + \"your age is \"+ str(age))\n",
        "\n",
        "greeting(\"Abbasi\", 19)"
      ],
      "execution_count": null,
      "outputs": [
        {
          "output_type": "stream",
          "text": [
            "Welcome Abbasiyour age is 19\n"
          ],
          "name": "stdout"
        }
      ]
    },
    {
      "cell_type": "code",
      "metadata": {
        "id": "9yoFN_SYaqJZ"
      },
      "source": [
        "def area_tri(base, height):\n",
        "  return (1/2)*(base*height)"
      ],
      "execution_count": null,
      "outputs": []
    },
    {
      "cell_type": "code",
      "metadata": {
        "colab": {
          "base_uri": "https://localhost:8080/"
        },
        "id": "Uqkzh_k4cTiz",
        "outputId": "b119b338-20e8-485a-b0cc-ad22b563dac5"
      },
      "source": [
        "area_1 = area_tri(7 , 8)\n",
        "print(area_1)\n"
      ],
      "execution_count": null,
      "outputs": [
        {
          "output_type": "stream",
          "text": [
            "28.0\n"
          ],
          "name": "stdout"
        }
      ]
    },
    {
      "cell_type": "code",
      "metadata": {
        "id": "yzs-E5k0cpLg"
      },
      "source": [
        "def covert_seconds(seconds):\n",
        "  hours=seconds//3600\n",
        "  minutes=(seconds-(hours*3600))//60\n",
        "  sec=(seconds-(hours*3600)-(minutes*60))\n",
        "  return hours, minutes, sec\n",
        "\n",
        "def lucky_num(name):\n",
        "  number=len(name)*2\n",
        "  print(\"Your name is \"+ name +\". Your lucky number is \"+ str(number))"
      ],
      "execution_count": null,
      "outputs": []
    },
    {
      "cell_type": "code",
      "metadata": {
        "colab": {
          "base_uri": "https://localhost:8080/"
        },
        "id": "ALadQeR9gSEK",
        "outputId": "cb049268-8932-4ea5-f966-b0e5e5a16763"
      },
      "source": [
        "print(covert_seconds(5000))\n",
        "lucky_num(\"Abbasi\")"
      ],
      "execution_count": null,
      "outputs": [
        {
          "output_type": "stream",
          "text": [
            "(1, 23, 20)\n",
            "Your name is Abbasi. Your lucky number is 12\n"
          ],
          "name": "stdout"
        }
      ]
    },
    {
      "cell_type": "code",
      "metadata": {
        "colab": {
          "base_uri": "https://localhost:8080/"
        },
        "id": "LdEIGZ7WgYjP",
        "outputId": "f86b30f3-60f9-4a86-bf95-27583b594197"
      },
      "source": [
        "\n",
        "def month_days(month,days):\n",
        "    print(month +\" has \" + str(days)+\" days.\")\n",
        "\n",
        "month_days(\"june\" , \"30\")\n",
        "month_days(\"july\" , \"31\")"
      ],
      "execution_count": null,
      "outputs": [
        {
          "output_type": "stream",
          "text": [
            "june has 30 days.\n",
            "july has 31 days.\n"
          ],
          "name": "stdout"
        }
      ]
    },
    {
      "cell_type": "code",
      "metadata": {
        "id": "v5durwyWk_mM"
      },
      "source": [
        ""
      ],
      "execution_count": null,
      "outputs": []
    },
    {
      "cell_type": "code",
      "metadata": {
        "colab": {
          "base_uri": "https://localhost:8080/"
        },
        "id": "eNh_nlsYisCd",
        "outputId": "a5550527-c3da-4bba-8dd5-622512919e0b"
      },
      "source": [
        "def convert_distance(miles):\n",
        "\treturn miles * 1.6  # approximately 1.6 km in 1 mile\n",
        "\n",
        "my_trip_miles = 55\n",
        "# 2) Convert my_trip_miles to kilometers by calling the function above\n",
        "my_trip_km = convert_distance(my_trip_miles)\n",
        "\n",
        "# 3) Fill in the blank to print the result of the conversion\n",
        "print(\"The distance in kilometers is \" + str(my_trip_km))\n",
        "\n",
        "# 4) Calculate the round-trip in kilometers by doubling the result,\n",
        "#    and fill in the blank to print the result\n",
        "round_trip_km = int(my_trip_km)*2\n",
        "print(\"The round-trip in kilometers is \" + str(round_trip_km))"
      ],
      "execution_count": null,
      "outputs": [
        {
          "output_type": "stream",
          "text": [
            "The distance in kilometers is 88.0\n",
            "The round-trip in kilometers is 176\n"
          ],
          "name": "stdout"
        }
      ]
    },
    {
      "cell_type": "code",
      "metadata": {
        "colab": {
          "base_uri": "https://localhost:8080/"
        },
        "id": "2bCEUlFPksHM",
        "outputId": "0d559702-a70f-42c3-97d5-a38d5601797a"
      },
      "source": [
        "print(\"Yellow\" > \"Cyan\" or \"Brown\" > \"Yellow\")\n"
      ],
      "execution_count": null,
      "outputs": [
        {
          "output_type": "stream",
          "text": [
            "True\n"
          ],
          "name": "stdout"
        }
      ]
    },
    {
      "cell_type": "code",
      "metadata": {
        "colab": {
          "base_uri": "https://localhost:8080/"
        },
        "id": "DSj9_kAKlqyB",
        "outputId": "1f945cb2-e417-4523-b2cd-b149320820d3"
      },
      "source": [
        "print(not 42 == \"Answer\")"
      ],
      "execution_count": null,
      "outputs": [
        {
          "output_type": "stream",
          "text": [
            "True\n"
          ],
          "name": "stdout"
        }
      ]
    },
    {
      "cell_type": "code",
      "metadata": {
        "id": "dI-UhoKKnczE"
      },
      "source": [
        "def positive(number):\n",
        "  if number<0:\n",
        "    return False\n",
        "  else:  \n",
        "     return True\n"
      ],
      "execution_count": null,
      "outputs": []
    },
    {
      "cell_type": "code",
      "metadata": {
        "colab": {
          "base_uri": "https://localhost:8080/"
        },
        "id": "u40cBQsmopEL",
        "outputId": "e719b98f-9184-43fe-8694-b840c2bc4aec"
      },
      "source": [
        "print(positive(10))"
      ],
      "execution_count": null,
      "outputs": [
        {
          "output_type": "stream",
          "text": [
            "True\n"
          ],
          "name": "stdout"
        }
      ]
    },
    {
      "cell_type": "code",
      "metadata": {
        "id": "mZo2IhvMoq-2"
      },
      "source": [
        "def is_even(num):\n",
        "  if num % 2==0:\n",
        "    return True\n",
        "  elif num ==0:\n",
        "    return True\n",
        "  else:\n",
        "    return False"
      ],
      "execution_count": null,
      "outputs": []
    },
    {
      "cell_type": "code",
      "metadata": {
        "colab": {
          "base_uri": "https://localhost:8080/"
        },
        "id": "N8ssD1slqMFP",
        "outputId": "d231fd25-f19c-4c47-8acf-4e0ead8c1c34"
      },
      "source": [
        "is_even(5)"
      ],
      "execution_count": null,
      "outputs": [
        {
          "output_type": "execute_result",
          "data": {
            "text/plain": [
              "False"
            ]
          },
          "metadata": {
            "tags": []
          },
          "execution_count": 78
        }
      ]
    },
    {
      "cell_type": "code",
      "metadata": {
        "colab": {
          "base_uri": "https://localhost:8080/"
        },
        "id": "G8K0sMsfqOH4",
        "outputId": "12317b56-837a-4b7b-d803-7c1d3da35aea"
      },
      "source": [
        "def calculate_storage(filesize):\n",
        "    block_size = 4096\n",
        "    # Use floor division to calculate how many blocks are fully occupied\n",
        "    full_blocks = filesize//block_size\n",
        "    # Use the modulo operator to check whether there's any remainder\n",
        "    partial_block_remainder = filesize-(full_blocks*block_size)\n",
        "    # Depending on whether there's a remainder or not, return\n",
        "    # the total number of bytes required to allocate enough blocks\n",
        "    # to store your data.\n",
        "    if partial_block_remainder > 0:\n",
        "        return (block_size*full_blocks) + block_size\n",
        "    return block_size  * full_blocks\n",
        "    \n",
        "\n",
        "print(calculate_storage(1))    # Should be 4096\n",
        "print(calculate_storage(4096)) # Should be 4096\n",
        "print(calculate_storage(4097)) # Should be 8192\n",
        "print(calculate_storage(6000)) # Should be 8192"
      ],
      "execution_count": null,
      "outputs": [
        {
          "output_type": "stream",
          "text": [
            "4096\n",
            "4096\n",
            "8192\n",
            "8192\n"
          ],
          "name": "stdout"
        }
      ]
    },
    {
      "cell_type": "code",
      "metadata": {
        "colab": {
          "base_uri": "https://localhost:8080/"
        },
        "id": "KaQpsdCwtaox",
        "outputId": "045649cf-120c-461d-f265-83a05e7f02b4"
      },
      "source": [
        "def sum(x, y):\n",
        "\t\treturn(x+y)\n",
        "print(sum(sum(1,2), sum(3,4)))"
      ],
      "execution_count": null,
      "outputs": [
        {
          "output_type": "stream",
          "text": [
            "10\n"
          ],
          "name": "stdout"
        }
      ]
    },
    {
      "cell_type": "code",
      "metadata": {
        "colab": {
          "base_uri": "https://localhost:8080/"
        },
        "id": "xuznTto1wRDH",
        "outputId": "7f17f058-f769-44e8-cec7-8fdfcfcf6e80"
      },
      "source": [
        "((10 >= 5*2) and (10 <= 5*2))"
      ],
      "execution_count": null,
      "outputs": [
        {
          "output_type": "execute_result",
          "data": {
            "text/plain": [
              "True"
            ]
          },
          "metadata": {
            "tags": []
          },
          "execution_count": 81
        }
      ]
    },
    {
      "cell_type": "code",
      "metadata": {
        "colab": {
          "base_uri": "https://localhost:8080/"
        },
        "id": "Wu3YX71AwVgW",
        "outputId": "f733f130-7c04-4bbd-b771-5b6d8ecef072"
      },
      "source": [
        "x=0\n",
        "while x<5:\n",
        "  print(\"Not there yet x=\" + str(x))\n",
        "  x=x+1\n",
        "print(\"x= \"+ str(x))"
      ],
      "execution_count": null,
      "outputs": [
        {
          "output_type": "stream",
          "text": [
            "Not there yet x=0\n",
            "Not there yet x=1\n",
            "Not there yet x=2\n",
            "Not there yet x=3\n",
            "Not there yet x=4\n",
            "x= 5\n"
          ],
          "name": "stdout"
        }
      ]
    },
    {
      "cell_type": "code",
      "metadata": {
        "colab": {
          "base_uri": "https://localhost:8080/",
          "height": 102
        },
        "id": "PR61b4H5ymxQ",
        "outputId": "037d8659-043c-4dae-c9c8-f34e8da78152"
      },
      "source": [
        "def print_prime_factors(number):\n",
        "  # Start with two, which is the first prime\n",
        "  factor = 2\n",
        "  # Keep going until the factor is larger than the number\n",
        "  while factor <= number:\n",
        "    # Check if factor is a divisor of number\n",
        "    if number % factor == 0:\n",
        "      # If it is, print it and divide the original number\n",
        "      print(factor)\n",
        "      number = number / factor\n",
        "    else:\n",
        "      # If it's not, increment the factor by one\n",
        "      factor+=1\n",
        "      \n",
        "  return \"Done\"\n",
        "\n",
        "print_prime_factors(100)\n",
        "# Should print 2,2,5,5\n",
        "# DO NOT DELETE THIS COMMENT"
      ],
      "execution_count": null,
      "outputs": [
        {
          "output_type": "stream",
          "text": [
            "2\n",
            "2\n",
            "5\n",
            "5\n"
          ],
          "name": "stdout"
        },
        {
          "output_type": "execute_result",
          "data": {
            "application/vnd.google.colaboratory.intrinsic+json": {
              "type": "string"
            },
            "text/plain": [
              "'Done'"
            ]
          },
          "metadata": {
            "tags": []
          },
          "execution_count": 92
        }
      ]
    },
    {
      "cell_type": "code",
      "metadata": {
        "colab": {
          "base_uri": "https://localhost:8080/"
        },
        "id": "gYnA0sFUjSwd",
        "outputId": "c66ad1fc-acda-46b4-dbae-07535723b577"
      },
      "source": [
        "for x in range(3):\n",
        "  print(x)"
      ],
      "execution_count": null,
      "outputs": [
        {
          "output_type": "stream",
          "text": [
            "0\n",
            "1\n",
            "2\n"
          ],
          "name": "stdout"
        }
      ]
    },
    {
      "cell_type": "code",
      "metadata": {
        "colab": {
          "base_uri": "https://localhost:8080/"
        },
        "id": "ZYRbk3O10lBz",
        "outputId": "a90e2c98-5ede-4876-8f86-5b18aef2973e"
      },
      "source": [
        "for x in range(2,100,5):\n",
        "  print(x, end=\" \")\n",
        "  if x==9:\n",
        "    print(x+1)"
      ],
      "execution_count": null,
      "outputs": [
        {
          "output_type": "stream",
          "text": [
            "2 7 12 17 22 27 32 37 42 47 52 57 62 67 72 77 82 87 92 97 "
          ],
          "name": "stdout"
        }
      ]
    },
    {
      "cell_type": "code",
      "metadata": {
        "id": "dE9XnUnskwIU"
      },
      "source": [
        "def decade_counter():\n",
        "\twhile year < 50:\n",
        "\t\tyear += 10\n",
        "\treturn year"
      ],
      "execution_count": null,
      "outputs": []
    },
    {
      "cell_type": "code",
      "metadata": {
        "colab": {
          "base_uri": "https://localhost:8080/"
        },
        "id": "K_J0fh4105Og",
        "outputId": "eb6b79a5-03c5-4cfc-e4e6-a122f86bb3b7"
      },
      "source": [
        "for x in range(1, 10, 3):\n",
        "    print(x)"
      ],
      "execution_count": null,
      "outputs": [
        {
          "output_type": "stream",
          "text": [
            "1\n",
            "4\n",
            "7\n"
          ],
          "name": "stdout"
        }
      ]
    },
    {
      "cell_type": "code",
      "metadata": {
        "colab": {
          "base_uri": "https://localhost:8080/"
        },
        "id": "Qhz3sVQU1FlD",
        "outputId": "a2394bc2-2200-4e7c-96a3-95029f9cb345"
      },
      "source": [
        "for x in range(10):\n",
        "    for y in range(x):\n",
        "        print(y)"
      ],
      "execution_count": null,
      "outputs": [
        {
          "output_type": "stream",
          "text": [
            "0\n",
            "0\n",
            "1\n",
            "0\n",
            "1\n",
            "2\n",
            "0\n",
            "1\n",
            "2\n",
            "3\n",
            "0\n",
            "1\n",
            "2\n",
            "3\n",
            "4\n",
            "0\n",
            "1\n",
            "2\n",
            "3\n",
            "4\n",
            "5\n",
            "0\n",
            "1\n",
            "2\n",
            "3\n",
            "4\n",
            "5\n",
            "6\n",
            "0\n",
            "1\n",
            "2\n",
            "3\n",
            "4\n",
            "5\n",
            "6\n",
            "7\n",
            "0\n",
            "1\n",
            "2\n",
            "3\n",
            "4\n",
            "5\n",
            "6\n",
            "7\n",
            "8\n"
          ],
          "name": "stdout"
        }
      ]
    },
    {
      "cell_type": "code",
      "metadata": {
        "colab": {
          "base_uri": "https://localhost:8080/"
        },
        "id": "HWxH0pv11NUd",
        "outputId": "16dd06de-6e2e-4f3e-ed66-003c301ee737"
      },
      "source": [
        "def votes(params):\n",
        "\tfor vote in params:\n",
        "\t    print(\"Possible option:\" + vote)\n",
        "\n",
        "\n",
        "votes(['yes', 'no', 'maybe'])"
      ],
      "execution_count": null,
      "outputs": [
        {
          "output_type": "stream",
          "text": [
            "Possible option:yes\n",
            "Possible option:no\n",
            "Possible option:maybe\n"
          ],
          "name": "stdout"
        }
      ]
    },
    {
      "cell_type": "code",
      "metadata": {
        "colab": {
          "base_uri": "https://localhost:8080/"
        },
        "id": "6cAVPL2O1d2Q",
        "outputId": "d55ca219-2aed-4b75-c4cb-00a9dd9542a4"
      },
      "source": [
        "\n",
        "value=len(\"fire\")\n",
        "print(value)"
      ],
      "execution_count": null,
      "outputs": [
        {
          "output_type": "stream",
          "text": [
            "4\n"
          ],
          "name": "stdout"
        }
      ]
    },
    {
      "cell_type": "code",
      "metadata": {
        "colab": {
          "base_uri": "https://localhost:8080/"
        },
        "id": "vm7ril201mj1",
        "outputId": "0ae1f0f6-8a10-469a-87ce-5daee6ca0943"
      },
      "source": [
        "text=\"Random strings with alot of characters\"\n",
        "print(text[-1])\n",
        "print(text[-2])"
      ],
      "execution_count": null,
      "outputs": [
        {
          "output_type": "stream",
          "text": [
            "s\n",
            "r\n"
          ],
          "name": "stdout"
        }
      ]
    },
    {
      "cell_type": "code",
      "metadata": {
        "colab": {
          "base_uri": "https://localhost:8080/"
        },
        "id": "_tNbkQM298V5",
        "outputId": "f126a1bd-27b5-4890-bbf4-60d5133794db"
      },
      "source": [
        "def first_and_last(message):\n",
        "  text=message\n",
        "  if len(text)==0:\n",
        "    return True\n",
        "  if text[0]!=text[-1]:\n",
        "    return False\n",
        "  else:\n",
        "      return True\n",
        "\n",
        "print(first_and_last(\"else\"))\n",
        "print(first_and_last(\"tree\"))\n",
        "print(first_and_last(\"\"))"
      ],
      "execution_count": null,
      "outputs": [
        {
          "output_type": "stream",
          "text": [
            "True\n",
            "False\n",
            "True\n"
          ],
          "name": "stdout"
        }
      ]
    },
    {
      "cell_type": "code",
      "metadata": {
        "colab": {
          "base_uri": "https://localhost:8080/"
        },
        "id": "uFSd73MH_V2o",
        "outputId": "5c5981f2-8f9a-4710-a86b-8ef4333a7fc1"
      },
      "source": [
        "text=\"abdul Rehman Abbasi\"\n",
        "print(text[:3])\n",
        "print(text[3:])"
      ],
      "execution_count": null,
      "outputs": [
        {
          "output_type": "stream",
          "text": [
            "abd\n",
            "ul Rehman Abbasi\n"
          ],
          "name": "stdout"
        }
      ]
    },
    {
      "cell_type": "code",
      "metadata": {
        "colab": {
          "base_uri": "https://localhost:8080/"
        },
        "id": "XMaUEDV1__te",
        "outputId": "c5ad0fb3-7f8e-45d0-a7fe-186b6d837bf5"
      },
      "source": [
        "text.index(\"Reh\")"
      ],
      "execution_count": null,
      "outputs": [
        {
          "output_type": "execute_result",
          "data": {
            "text/plain": [
              "6"
            ]
          },
          "metadata": {
            "tags": []
          },
          "execution_count": 3
        }
      ]
    },
    {
      "cell_type": "code",
      "metadata": {
        "colab": {
          "base_uri": "https://localhost:8080/"
        },
        "id": "oQ6EpAS-CGYF",
        "outputId": "0cc52cb6-6627-4790-9a8f-4f386708ab93"
      },
      "source": [
        "\"Rehman\" in text"
      ],
      "execution_count": null,
      "outputs": [
        {
          "output_type": "execute_result",
          "data": {
            "text/plain": [
              "True"
            ]
          },
          "metadata": {
            "tags": []
          },
          "execution_count": 4
        }
      ]
    },
    {
      "cell_type": "code",
      "metadata": {
        "colab": {
          "base_uri": "https://localhost:8080/"
        },
        "id": "rb8pCZp2oNc5",
        "outputId": "4d39f106-4420-4f2f-c382-0539253e3337"
      },
      "source": [
        "\"Abba\" in text"
      ],
      "execution_count": null,
      "outputs": [
        {
          "output_type": "execute_result",
          "data": {
            "text/plain": [
              "True"
            ]
          },
          "metadata": {
            "tags": []
          },
          "execution_count": 11
        }
      ]
    },
    {
      "cell_type": "code",
      "metadata": {
        "colab": {
          "base_uri": "https://localhost:8080/"
        },
        "id": "o3llxtDpoXG_",
        "outputId": "9fadafc0-71ed-4c55-fd9e-9dc155088da3"
      },
      "source": [
        "def domain_changer(email, old_domain, new_domain):\n",
        "    if \"@\" + old_domain in email:\n",
        "      index= email.index(\"@\")\n",
        "      new_email= email[:index] + \"@\" + new_domain\n",
        "      return new_email\n",
        "\n",
        "email= domain_changer(\"abdurehman@hotmail.com\",\"hotmail.com\",\"live.com\")\n",
        "print(email)\n",
        "email=email.upper()\n",
        "print(email)"
      ],
      "execution_count": null,
      "outputs": [
        {
          "output_type": "stream",
          "text": [
            "abdurehman@live.com\n",
            "ABDUREHMAN@LIVE.COM\n"
          ],
          "name": "stdout"
        }
      ]
    },
    {
      "cell_type": "code",
      "metadata": {
        "colab": {
          "base_uri": "https://localhost:8080/"
        },
        "id": "h7c18R12pyjm",
        "outputId": "44d42b65-c6ea-4ff7-ff16-755fe9d229c9"
      },
      "source": [
        "a=5\n",
        "b=10\n",
        "a,b=b,a\n",
        "print(a)\n",
        "print(b)"
      ],
      "execution_count": null,
      "outputs": [
        {
          "output_type": "stream",
          "text": [
            "10\n",
            "5\n"
          ],
          "name": "stdout"
        }
      ]
    },
    {
      "cell_type": "code",
      "metadata": {
        "colab": {
          "base_uri": "https://localhost:8080/"
        },
        "id": "N7mAjL3eqYi4",
        "outputId": "7e5bae93-b092-41fb-b0bc-a13d7e8e264c"
      },
      "source": [
        "text=\"abdurehman\"\n",
        "text.strip()\n",
        "text.endswith('man')"
      ],
      "execution_count": null,
      "outputs": [
        {
          "output_type": "execute_result",
          "data": {
            "text/plain": [
              "True"
            ]
          },
          "metadata": {
            "tags": []
          },
          "execution_count": 47
        }
      ]
    },
    {
      "cell_type": "code",
      "metadata": {
        "colab": {
          "base_uri": "https://localhost:8080/"
        },
        "id": "1yi1nDvirpTo",
        "outputId": "2de49ed7-605e-4ea4-8aa7-1ca625a9cb2c"
      },
      "source": [
        "text.count(\"a\")\n"
      ],
      "execution_count": null,
      "outputs": [
        {
          "output_type": "execute_result",
          "data": {
            "text/plain": [
              "2"
            ]
          },
          "metadata": {
            "tags": []
          },
          "execution_count": 48
        }
      ]
    },
    {
      "cell_type": "code",
      "metadata": {
        "colab": {
          "base_uri": "https://localhost:8080/"
        },
        "id": "1dqj0hJJsHmp",
        "outputId": "69efc637-622a-4c9f-c92b-4670cbf4734b"
      },
      "source": [
        "Fores=\"Forest\"\n",
        "Fores.endswith(\"rest\")"
      ],
      "execution_count": null,
      "outputs": [
        {
          "output_type": "execute_result",
          "data": {
            "text/plain": [
              "True"
            ]
          },
          "metadata": {
            "tags": []
          },
          "execution_count": 45
        }
      ]
    },
    {
      "cell_type": "code",
      "metadata": {
        "colab": {
          "base_uri": "https://localhost:8080/"
        },
        "id": "DJbYRiu5spa6",
        "outputId": "5f03a591-bb60-4e7c-ec35-a904033e8255"
      },
      "source": [
        "\"1234\".isnumeric()"
      ],
      "execution_count": null,
      "outputs": [
        {
          "output_type": "execute_result",
          "data": {
            "text/plain": [
              "True"
            ]
          },
          "metadata": {
            "tags": []
          },
          "execution_count": 50
        }
      ]
    },
    {
      "cell_type": "code",
      "metadata": {
        "colab": {
          "base_uri": "https://localhost:8080/",
          "height": 35
        },
        "id": "z6hWeeHWs7o5",
        "outputId": "ffe0b84c-867c-4ebd-d08e-72162e0803a9"
      },
      "source": [
        "\"...\".join([\"Abdurehman\",\"Abbasi\"])"
      ],
      "execution_count": null,
      "outputs": [
        {
          "output_type": "execute_result",
          "data": {
            "application/vnd.google.colaboratory.intrinsic+json": {
              "type": "string"
            },
            "text/plain": [
              "'Abdurehman...Abbasi'"
            ]
          },
          "metadata": {
            "tags": []
          },
          "execution_count": 53
        }
      ]
    },
    {
      "cell_type": "code",
      "metadata": {
        "colab": {
          "base_uri": "https://localhost:8080/"
        },
        "id": "j5H1XFYAtK8l",
        "outputId": "9bf3df54-2ea2-4a22-9b6c-5c3c75c3a6e3"
      },
      "source": [
        "text=\"lets play basketball\"\n",
        "new=text.split()\n",
        "print(new)"
      ],
      "execution_count": null,
      "outputs": [
        {
          "output_type": "stream",
          "text": [
            "['lets', 'play', 'basketball']\n"
          ],
          "name": "stdout"
        }
      ]
    },
    {
      "cell_type": "code",
      "metadata": {
        "colab": {
          "base_uri": "https://localhost:8080/"
        },
        "id": "mCO_u9lOtcJ6",
        "outputId": "02292155-e393-4889-d36b-5773e7233509"
      },
      "source": [
        "def initials(phrase):\n",
        "    words = phrase.split()\n",
        "    result = \"\"\n",
        "    for word in words:\n",
        "        result += word[0].upper()\n",
        "    return result\n",
        "\n",
        "print(initials(\"Universal Serial Bus\")) # Should be: USB\n",
        "print(initials(\"local area network\")) # Should be: LAN\n",
        "print(initials(\"Operating system\")) # Should be: OS"
      ],
      "execution_count": null,
      "outputs": [
        {
          "output_type": "stream",
          "text": [
            "USB\n",
            "LAN\n",
            "OS\n"
          ],
          "name": "stdout"
        }
      ]
    },
    {
      "cell_type": "code",
      "metadata": {
        "colab": {
          "base_uri": "https://localhost:8080/"
        },
        "id": "oDJ-I8knuXrQ",
        "outputId": "6accdb19-35bd-47b1-d474-6613ab4986b1"
      },
      "source": [
        "name =\"Abbasi\"\n",
        "number=len(name)*3\n",
        "print(\"Hello {name}, your lucky number is {number}\".format(name=name,number=len(name)+3))\n",
        "print(\"Hello {}, your unlucky number is {}\".format(name,number))"
      ],
      "execution_count": null,
      "outputs": [
        {
          "output_type": "stream",
          "text": [
            "Hello Abbasi, your lucky number is 9\n",
            "Hello Abbasi, your unlucky number is 18\n"
          ],
          "name": "stdout"
        }
      ]
    },
    {
      "cell_type": "code",
      "metadata": {
        "colab": {
          "base_uri": "https://localhost:8080/"
        },
        "id": "rpbUpXS1xcH1",
        "outputId": "745214b9-11de-4b49-a8e3-b299b451b484"
      },
      "source": [
        "price=7.5\n",
        "with_tax=price*1.09\n",
        "print(\"price is {:.2f}, with tax the price is {:.2f}\".format(price,with_tax))"
      ],
      "execution_count": null,
      "outputs": [
        {
          "output_type": "stream",
          "text": [
            "price is 7.50, with tax the price is 8.18\n"
          ],
          "name": "stdout"
        }
      ]
    },
    {
      "cell_type": "code",
      "metadata": {
        "colab": {
          "base_uri": "https://localhost:8080/"
        },
        "id": "YGYnpWuJzm4R",
        "outputId": "32e0322b-16cb-4ce1-fde1-53ba32204332"
      },
      "source": [
        "def to_cel(temperature):\n",
        "  return (temperature-32)*5/9\n",
        "\n",
        "for x in range(0,101, 10):\n",
        "  print(\"{:>3} F || {:>6.2f} C\".format(x,to_cel(x)))\n",
        "  series=[\"1\",\"2\",\"3\",\"4\"]\n",
        "\n",
        "  "
      ],
      "execution_count": null,
      "outputs": [
        {
          "output_type": "stream",
          "text": [
            "  0 F || -17.78 C\n",
            " 10 F || -12.22 C\n",
            " 20 F ||  -6.67 C\n",
            " 30 F ||  -1.11 C\n",
            " 40 F ||   4.44 C\n",
            " 50 F ||  10.00 C\n",
            " 60 F ||  15.56 C\n",
            " 70 F ||  21.11 C\n",
            " 80 F ||  26.67 C\n",
            " 90 F ||  32.22 C\n",
            "100 F ||  37.78 C\n"
          ],
          "name": "stdout"
        }
      ]
    },
    {
      "cell_type": "code",
      "metadata": {
        "id": "RR7KTwx_0yKy"
      },
      "source": [
        "def is_palindrome(input_string):\n",
        "\t# We'll create two strings, to compare them\n",
        "\tnew_string = input_string\n",
        "\treverse_string = \"\"\n",
        "\t# Traverse through each letter of the input string\n",
        "\tfor letter in range(input_string,):\n",
        "\n",
        "\t\t# Add any non-blank letters to the \n",
        "\t\t# end of one string, and to the front\n",
        "\t\t# of the other string. \n",
        "\t\tif ___:\n",
        "\t\t\tnew_string = ___\n",
        "\t\t\treverse_string = ___\n",
        "\t# Compare the strings\n",
        "\tif ___:\n",
        "\t\treturn True\n",
        "\treturn False\n",
        "\n",
        "print(is_palindrome(\"Never Odd or Even\")) # Should be True\n",
        "print(is_palindrome(\"abc\")) # Should be False\n",
        "print(is_palindrome(\"kayak\")) # Should be True"
      ],
      "execution_count": null,
      "outputs": []
    },
    {
      "cell_type": "code",
      "metadata": {
        "colab": {
          "base_uri": "https://localhost:8080/"
        },
        "id": "FIzDsOyd5Fs0",
        "outputId": "aa8a61b8-3f32-4095-e0cc-22ba429d50b4"
      },
      "source": [
        "text=\"My full name is ABdul Rehhman Abbasi\"\n",
        "new=text.split()\n",
        "print(new)\n",
        "print(text.lower())"
      ],
      "execution_count": null,
      "outputs": [
        {
          "output_type": "stream",
          "text": [
            "['My', 'full', 'name', 'is', 'ABdul', 'Rehhman', 'Abbasi']\n",
            "my full name is abdul rehhman abbasi\n"
          ],
          "name": "stdout"
        }
      ]
    },
    {
      "cell_type": "code",
      "metadata": {
        "colab": {
          "base_uri": "https://localhost:8080/"
        },
        "id": "PvPYIkfI5MpW",
        "outputId": "209f80ac-48fa-4a19-9d25-d40c02a7f81b"
      },
      "source": [
        "def is_palindrome(input_string):\n",
        "    new_string = input_string.split()\n",
        "    new_string = \"\".join(new_string).lower()\n",
        "    reverse_string = new_string[::-1]    \n",
        "    \n",
        "    if new_string == reverse_string:\n",
        "        return True\n",
        "    else:\n",
        "        return False\n",
        "\n",
        "\n",
        "print(is_palindrome(\"Never Odd or Even\")) # Should be True\n",
        "print(is_palindrome(\"abc\")) # Should be False\n",
        "print(is_palindrome(\"kayak\")) # Should be True"
      ],
      "execution_count": null,
      "outputs": [
        {
          "output_type": "stream",
          "text": [
            "True\n",
            "False\n",
            "True\n"
          ],
          "name": "stdout"
        }
      ]
    },
    {
      "cell_type": "code",
      "metadata": {
        "colab": {
          "base_uri": "https://localhost:8080/"
        },
        "id": "iFP_MJVN68Nc",
        "outputId": "e2d64d55-c58b-4d46-9a52-a912fc6bc647"
      },
      "source": [
        "def replace_ending(sentence, old, new):\n",
        "\t# Check if the old string is at the end of the sentence \n",
        "\tif sentence.endswith(old):\n",
        "\t\t# Using i as the slicing index, combine the part\n",
        "\t\t# of the sentence up to the matched string at the \n",
        "\t\t# end with the new string\n",
        "\t\ti = sentence.split()\n",
        "\t\tk =i[-1].replace(old,new)\n",
        "\t\tnew_sentence=sentence[0:-len(old)]+k\n",
        "\t\treturn new_sentence\n",
        "\n",
        "\t# Return the original sentence if there is no match \n",
        "\treturn sentence\n",
        "\t\n",
        "print(replace_ending(\"It's raining cats and cats\", \"cats\", \"dogs\")) \n",
        "# Should display \"It's raining cats and dogs\"\n",
        "print(replace_ending(\"She sells seashells by the seashore\", \"seashells\", \"donuts\")) \n",
        "# Should display \"She sells seashells by the seashore\"\n",
        "print(replace_ending(\"The weather is nice in May\", \"may\", \"april\")) \n",
        "# Should display \"The weather is nice in May\"\n",
        "print(replace_ending(\"The weather is nice in May\", \"May\", \"April\")) \n",
        "# Should display \"The weather is nice in April\""
      ],
      "execution_count": null,
      "outputs": [
        {
          "output_type": "stream",
          "text": [
            "It's raining cats and dogs\n",
            "She sells seashells by the seashore\n",
            "The weather is nice in May\n",
            "The weather is nice in April\n"
          ],
          "name": "stdout"
        }
      ]
    },
    {
      "cell_type": "code",
      "metadata": {
        "colab": {
          "base_uri": "https://localhost:8080/"
        },
        "id": "FiG_qlhg-iRB",
        "outputId": "85aa3381-e584-4051-b884-ebfb7a7bf58b"
      },
      "source": [
        "x=[\"Now\", \"we\" ,\"are\",1]\n",
        "print(x[-1])\n",
        "x.append(\"cooking\")\n",
        "print(x)\n"
      ],
      "execution_count": null,
      "outputs": [
        {
          "output_type": "stream",
          "text": [
            "1\n",
            "['Now', 'we', 'are', 1, 'cooking']\n"
          ],
          "name": "stdout"
        }
      ]
    },
    {
      "cell_type": "code",
      "metadata": {
        "colab": {
          "base_uri": "https://localhost:8080/"
        },
        "id": "hb7dXeCfIcgE",
        "outputId": "ca9b1656-0487-4ca7-b478-d97fbd66f914"
      },
      "source": [
        "x.insert(3,\"not\")\n",
        "print(x)\n",
        "x.remove(\"not\")\n",
        "print(x)"
      ],
      "execution_count": null,
      "outputs": [
        {
          "output_type": "stream",
          "text": [
            "['Now', 'we', 'not', 'are', 1, 'cooking']\n"
          ],
          "name": "stdout"
        }
      ]
    },
    {
      "cell_type": "code",
      "metadata": {
        "colab": {
          "base_uri": "https://localhost:8080/",
          "height": 35
        },
        "id": "U3uTPh-MJ3AV",
        "outputId": "ce24f841-94c5-4698-ebfb-47b7e2f40dab"
      },
      "source": [
        "x.pop(3)"
      ],
      "execution_count": null,
      "outputs": [
        {
          "output_type": "execute_result",
          "data": {
            "application/vnd.google.colaboratory.intrinsic+json": {
              "type": "string"
            },
            "text/plain": [
              "'are'"
            ]
          },
          "metadata": {
            "tags": []
          },
          "execution_count": 118
        }
      ]
    },
    {
      "cell_type": "code",
      "metadata": {
        "colab": {
          "base_uri": "https://localhost:8080/"
        },
        "id": "S57HNIoZKgEj",
        "outputId": "b68a0f5c-234d-4d2d-88d0-f8b3e10ca294"
      },
      "source": [
        "print(x)"
      ],
      "execution_count": null,
      "outputs": [
        {
          "output_type": "stream",
          "text": [
            "['Now', 'we', 'not', 1, 'cooking']\n"
          ],
          "name": "stdout"
        }
      ]
    },
    {
      "cell_type": "code",
      "metadata": {
        "colab": {
          "base_uri": "https://localhost:8080/"
        },
        "id": "TI2dA9ETKhYz",
        "outputId": "f6cd010c-f301-4c92-b110-64cfdf416795"
      },
      "source": [
        "x[1]=\"you\"\n",
        "print(x)"
      ],
      "execution_count": null,
      "outputs": [
        {
          "output_type": "stream",
          "text": [
            "['Now', 'you', 'not', 1, 'cooking']\n"
          ],
          "name": "stdout"
        }
      ]
    },
    {
      "cell_type": "code",
      "metadata": {
        "colab": {
          "base_uri": "https://localhost:8080/"
        },
        "id": "E0icunY9KuqL",
        "outputId": "7ff61643-d35f-42d2-aeb7-e284339f1a73"
      },
      "source": [
        "def email_formatting(people):\n",
        "  results=[]\n",
        "  for email, name in people:\n",
        "    results.append(\"{} <{}>\".format(name,email))\n",
        "\n",
        "  return results\n",
        "\n",
        "\n",
        "print(email_formatting([(\"abdurehman@live.com\", \"Abdul Rehman Abbasi\"),\n",
        "                        (\"salman@live.com\", \"Salman Abbasi\")]))\n",
        "    "
      ],
      "execution_count": null,
      "outputs": [
        {
          "output_type": "stream",
          "text": [
            "['Abdul Rehman Abbasi <abdurehman@live.com>', 'Salman Abbasi <salman@live.com>']\n"
          ],
          "name": "stdout"
        }
      ]
    },
    {
      "cell_type": "code",
      "metadata": {
        "colab": {
          "base_uri": "https://localhost:8080/"
        },
        "id": "wljPQjQsR4xT",
        "outputId": "4172b417-7d96-4472-c070-11917710ffb9"
      },
      "source": [
        "multiples=[]\n",
        "for x in range(1, 11):\n",
        "  multiples.append(x*7)\n",
        "\n",
        "print(multiples)\n",
        "\n",
        "# or you can use the list compreshension function\n",
        "multiples=[x*7 for x in range(1,11)]\n",
        "print(multiples)"
      ],
      "execution_count": null,
      "outputs": [
        {
          "output_type": "stream",
          "text": [
            "[7, 14, 21, 28, 35, 42, 49, 56, 63, 70]\n",
            "[7, 14, 21, 28, 35, 42, 49, 56, 63, 70]\n"
          ],
          "name": "stdout"
        }
      ]
    },
    {
      "cell_type": "code",
      "metadata": {
        "colab": {
          "base_uri": "https://localhost:8080/"
        },
        "id": "PtRATBnPTliX",
        "outputId": "ce798069-07b9-498f-f9f0-c200ac0c7ee3"
      },
      "source": [
        "family=[\"Aijaz\", \"Sobia\",\"Salman\", \"AbdulRehman\", \"Labina\"]\n",
        "length=[]\n",
        "length=[len(member) for member in family]\n",
        "print(family)\n",
        "print(length)"
      ],
      "execution_count": null,
      "outputs": [
        {
          "output_type": "stream",
          "text": [
            "['Aijaz', 'Sobia', 'Salman', 'AbdulRehman', 'Labina']\n",
            "[5, 5, 6, 11, 6]\n"
          ],
          "name": "stdout"
        }
      ]
    },
    {
      "cell_type": "code",
      "metadata": {
        "colab": {
          "base_uri": "https://localhost:8080/"
        },
        "id": "4X0Fm1GuUyu6",
        "outputId": "a162f178-4edc-4803-9341-d91b92817419"
      },
      "source": [
        "z=[x for x in range(1,101) if x%3==0]\n",
        "print(z)"
      ],
      "execution_count": null,
      "outputs": [
        {
          "output_type": "stream",
          "text": [
            "[3, 6, 9, 12, 15, 18, 21, 24, 27, 30, 33, 36, 39, 42, 45, 48, 51, 54, 57, 60, 63, 66, 69, 72, 75, 78, 81, 84, 87, 90, 93, 96, 99]\n"
          ],
          "name": "stdout"
        }
      ]
    },
    {
      "cell_type": "code",
      "metadata": {
        "colab": {
          "base_uri": "https://localhost:8080/"
        },
        "id": "R0DnyF4BXknI",
        "outputId": "b804bd09-0c08-485a-e333-2734a7c92588"
      },
      "source": [
        "text=\"abbasi\"\n",
        "word=\"\"\n",
        "new_uu=text.split()\n",
        "old=new_uu.reverse\n",
        "print(new_uu)"
      ],
      "execution_count": null,
      "outputs": [
        {
          "output_type": "stream",
          "text": [
            "['abbasi']\n"
          ],
          "name": "stdout"
        }
      ]
    },
    {
      "cell_type": "code",
      "metadata": {
        "id": "if6ZI7_LY_Dj"
      },
      "source": [
        "def pig_latin(text):\n",
        "  say = \"\"\n",
        "  # Separate the text into words\n",
        "  words = text.split()\n",
        "  for word in words:\n",
        "    # Create the pig latin word and add it to the list\n",
        "    ___\n",
        "    # Turn the list back into a phrase\n",
        "  return ___\n",
        "\t\t\n",
        "print(pig_latin(\"hello how are you\")) # Should be \"ellohay owhay reaay ouyay\"\n",
        "print(pig_latin(\"programming in python is fun\")) # Should be \"rogrammingpay niay ythonpay siay unfay\""
      ],
      "execution_count": null,
      "outputs": []
    },
    {
      "cell_type": "code",
      "metadata": {
        "colab": {
          "base_uri": "https://localhost:8080/",
          "height": 35
        },
        "id": "YQdESWb4c9rF",
        "outputId": "66ff492c-9678-43a8-f330-128c3f5edfd3"
      },
      "source": [
        "'''def pig_latin(text):\n",
        "  say = text.split()\n",
        "for word in enumerate(say):\n",
        "\n",
        "  print(word)\n",
        "\n",
        "pig_latin(\"hello how are you\")'''"
      ],
      "execution_count": null,
      "outputs": [
        {
          "output_type": "execute_result",
          "data": {
            "application/vnd.google.colaboratory.intrinsic+json": {
              "type": "string"
            },
            "text/plain": [
              "'def pig_latin(text):\\n  say = text.split()\\nfor word in enumerate(say):\\n\\n  print(word)\\n\\npig_latin(\"hello how are you\")'"
            ]
          },
          "metadata": {
            "tags": []
          },
          "execution_count": 1
        }
      ]
    },
    {
      "cell_type": "code",
      "metadata": {
        "id": "5YD_Bhw3dFyv",
        "colab": {
          "base_uri": "https://localhost:8080/"
        },
        "outputId": "b74e890e-7f48-4b24-b0b9-7ab07bae314a"
      },
      "source": [
        "  for meal in meals:\n",
        "        if meals.index(meal)<len(meals)-1:\n",
        "            if meal==meals[meals.index(meal)+1]:\n",
        "                return True\n",
        "    pass\n",
        "    return False\n"
      ],
      "execution_count": null,
      "outputs": [
        {
          "output_type": "stream",
          "text": [
            "[False, False, True, True]\n"
          ],
          "name": "stdout"
        }
      ]
    },
    {
      "cell_type": "code",
      "metadata": {
        "colab": {
          "base_uri": "https://localhost:8080/"
        },
        "id": "q6hHpthJVmWN",
        "outputId": "fc0b109e-d499-408f-afc8-32d45690f84c"
      },
      "source": [
        "triplequoted_hello = \"\"\"hello\n",
        "world\"\"\"\n",
        "print(triplequoted_hello)\n",
        "triplequoted_hello == \"hello\""
      ],
      "execution_count": null,
      "outputs": [
        {
          "output_type": "stream",
          "text": [
            "hello\n",
            "world\n"
          ],
          "name": "stdout"
        },
        {
          "output_type": "execute_result",
          "data": {
            "text/plain": [
              "False"
            ]
          },
          "metadata": {
            "tags": []
          },
          "execution_count": 3
        }
      ]
    },
    {
      "cell_type": "code",
      "metadata": {
        "colab": {
          "base_uri": "https://localhost:8080/"
        },
        "id": "l_WQgodY2lzr",
        "outputId": "dc4d9249-5ba6-456b-bc41-91e1452f97f6"
      },
      "source": [
        "username = input(\"Enter a username for your online banking account: \")\n",
        "\n",
        "final_username = \"\".join(u for u in username if u not in (\"?\", \".\", \";\", \":\", \"!\"))\n",
        "\n",
        "print(final_username)"
      ],
      "execution_count": null,
      "outputs": [
        {
          "output_type": "stream",
          "text": [
            "Enter a username for your online banking account: abbasi aidopf ::\n",
            "abbasi aidopf \n"
          ],
          "name": "stdout"
        }
      ]
    },
    {
      "cell_type": "code",
      "metadata": {
        "colab": {
          "base_uri": "https://localhost:8080/"
        },
        "id": "DEILv-u48BS2",
        "outputId": "6dc10396-9e1d-4086-d61c-e76192472388"
      },
      "source": [
        "def word_search(documents, keyword):\n",
        "    # list to hold the indices of matching documents\n",
        "    indices = [] \n",
        "    # Iterate through the indices (i) and elements (doc) of documents\n",
        "    for i, doc in enumerate(documents):\n",
        "        # Split the string doc into a list of words (according to whitespace)\n",
        "        tokens = doc.split()\n",
        "        # Make a transformed list where we 'normalize' each word to facilitate matching.\n",
        "        # Periods and commas are removed from the end of each word, and it's set to all lowercase.\n",
        "        normalized = [token.rstrip('.,').lower() for token in tokens]\n",
        "        # Is there a match? If so, update the list of matching indices.\n",
        "        if keyword.lower() in normalized:\n",
        "            indices.append(i)\n",
        "    return indices\n",
        "\n",
        "doc_list = [\"The Learn Python Challenge Casino.\", \"They bought a car\", \"Casinoville\"]\n",
        "word_search(doc_list,\"Casino\")"
      ],
      "execution_count": null,
      "outputs": [
        {
          "output_type": "execute_result",
          "data": {
            "text/plain": [
              "[0]"
            ]
          },
          "metadata": {
            "tags": []
          },
          "execution_count": 14
        }
      ]
    },
    {
      "cell_type": "code",
      "metadata": {
        "colab": {
          "base_uri": "https://localhost:8080/"
        },
        "id": "mFqxUlpp-sBn",
        "outputId": "f772a6e9-a88c-456b-a78e-8e6f270f1eb9"
      },
      "source": [
        "from math import *\n",
        "print(pi, log(32, 2))"
      ],
      "execution_count": null,
      "outputs": [
        {
          "output_type": "stream",
          "text": [
            "3.141592653589793 5.0\n"
          ],
          "name": "stdout"
        }
      ]
    },
    {
      "cell_type": "code",
      "metadata": {
        "id": "0cKs_-CwJdMA"
      },
      "source": [
        ""
      ],
      "execution_count": null,
      "outputs": []
    }
  ]
}